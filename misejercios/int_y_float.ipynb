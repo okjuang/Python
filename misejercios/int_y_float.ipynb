{
  "nbformat": 4,
  "nbformat_minor": 0,
  "metadata": {
    "colab": {
      "name": "int_y_float.ipynb",
      "provenance": [],
      "include_colab_link": true
    },
    "kernelspec": {
      "name": "python3",
      "display_name": "Python 3"
    },
    "language_info": {
      "name": "python"
    }
  },
  "cells": [
    {
      "cell_type": "markdown",
      "metadata": {
        "id": "view-in-github",
        "colab_type": "text"
      },
      "source": [
        "<a href=\"https://colab.research.google.com/github/okjuang/Python/blob/main/misejercios/int_y_float.ipynb\" target=\"_parent\"><img src=\"https://colab.research.google.com/assets/colab-badge.svg\" alt=\"Open In Colab\"/></a>"
      ]
    },
    {
      "cell_type": "markdown",
      "source": [
        "# Para capturar información del usuario, utilice la función input()"
      ],
      "metadata": {
        "id": "aAzDhQXn7m_b"
      }
    },
    {
      "cell_type": "code",
      "execution_count": 8,
      "metadata": {
        "id": "242f2CPa69TN",
        "outputId": "9415cd52-3341-42bb-a05f-b19f9969edc3",
        "colab": {
          "base_uri": "https://localhost:8080/"
        }
      },
      "outputs": [
        {
          "output_type": "stream",
          "name": "stdout",
          "text": [
            "Bienvenido al taller de Python en PILARES\n",
            "Introduce tú edad364\n",
            "Bienvenido:  364\n"
          ]
        }
      ],
      "source": [
        "print(\"Bienvenido al taller de Python en PILARES\")\n",
        "name = int(input(\"Introduce tú edad\"))\n",
        "print(\"Bienvenido: \" , name)"
      ]
    },
    {
      "cell_type": "markdown",
      "source": [
        "# Trabajar con números\n",
        "La función almacena un resultado como una cadena. Por lo tanto, es posible que el siguiente código no haga lo que desea que haga: input()\n",
        "\n"
      ],
      "metadata": {
        "id": "ZcNt0zNY7xEs"
      }
    },
    {
      "cell_type": "code",
      "source": [
        "print(\"Calculadora\")\n",
        "first_number = input(\"Primer número: \")\n",
        "second_number = input(\"Segundo número: \")\n",
        "print(first_number + second_number)"
      ],
      "metadata": {
        "id": "L1gvq4_7700Y",
        "outputId": "918bf4c0-7e8c-4b9b-eb8e-bad01143bf8f",
        "colab": {
          "base_uri": "https://localhost:8080/"
        }
      },
      "execution_count": 9,
      "outputs": [
        {
          "output_type": "stream",
          "name": "stdout",
          "text": [
            "Calculadora\n",
            "Primer número: 454\n",
            "Segundo número: 54\n",
            "45454\n"
          ]
        }
      ]
    },
    {
      "cell_type": "markdown",
      "source": [
        "Probablemente quieres que este programa te responda con la suma pero dará un número diferente. ¿qué salió mal?\n",
        "\n",
        "La explicación es que el programa toma ambos números como si fuesen 'cadenas de texto'. Para que el cálculo funcione correctamente, debe cambiar esas cadenas a números mediante la función int(). Modificando la última línea del programa a utilizar, puede resolver el problema:"
      ],
      "metadata": {
        "id": "QLW2llQR762d"
      }
    },
    {
      "cell_type": "code",
      "source": [
        "print(int(first_number) + int(second_number))"
      ],
      "metadata": {
        "id": "Bqz03njY7_i9",
        "outputId": "f70daaca-3633-45d1-9906-751865150c00",
        "colab": {
          "base_uri": "https://localhost:8080/"
        }
      },
      "execution_count": 10,
      "outputs": [
        {
          "output_type": "stream",
          "name": "stdout",
          "text": [
            "508\n"
          ]
        }
      ]
    },
    {
      "cell_type": "markdown",
      "source": [
        "# EJERCICIO 1\n",
        "Construir un convertidor de unidades de centimetros a metros (el formato del resultado deberá ser: X cm son igual a X metros, según el usuarios ingrese la cantidad a convertir)."
      ],
      "metadata": {
        "id": "4qQAtf1n-mPx"
      }
    },
    {
      "cell_type": "code",
      "source": [
        "#Tu código aquí\n",
        "print('¿Cuantos centimetros quieres convertir a metros?')\n",
        "centimetros=float(input('ingresa la cantidad '))\n",
        "print(centimetros / 100)"
      ],
      "metadata": {
        "id": "LfnRmfE3_SQa",
        "outputId": "1b90cd1c-953a-4606-99e2-d55577a197eb",
        "colab": {
          "base_uri": "https://localhost:8080/"
        }
      },
      "execution_count": 13,
      "outputs": [
        {
          "output_type": "stream",
          "name": "stdout",
          "text": [
            "¿Cuantos centimetros quieres convertir a metros?\n",
            "ingresa la cantidad 58\n",
            "0.58\n"
          ]
        }
      ]
    },
    {
      "cell_type": "markdown",
      "source": [
        "# EJERCICIO 2\n",
        "Exploremos cómo podemos crear un programa que pueda calcular la distancia entre dos planetas EN KILOMETROS. Comenzaremos conociendo las distancias de planetas al sol: \n",
        "\n",
        "Planeta Y Distancia al sol\n",
        "\n",
        "Mercurio 57900000\n",
        "\n",
        "Venus 108200000\n",
        "\n",
        "Tierra 149600000\n",
        "\n",
        "Marte 227900000\n",
        "\n",
        "Júpiter 778600000\n",
        "\n",
        "Saturno 1433500000\n",
        "\n",
        "Urano 2872500000\n",
        "\n",
        "Neptuno 4495100000\n",
        "\n",
        "PASOS:\n",
        "\n",
        "a) Lee los valores\n",
        "\n",
        "Usando input, agrega el código para leer la distancia del sol para cada planeta, considerando 2 planetas.\n",
        "\n",
        "b)Convertir a número\n",
        "\n",
        "Debido a que input devuelve valores de cadena, necesitamos convertirlos en números. Para nuestro ejemplo, usaremos int\n",
        "\n",
        "c)Realizar el cálculo y convertir a valor absoluto\n",
        "\n",
        "Con los valores almacenados como números, ahora puedes agregar el código para realizar el cálculo, restando el primer planeta del segundo. Debido a que el segundo planeta podría ser un número mayor, usarás abs para convertirlo a un valor absoluto\n",
        "\n",
        "d)Prueba tu aplicación"
      ],
      "metadata": {
        "id": "fQKrIG5VE9PO"
      }
    },
    {
      "cell_type": "code",
      "source": [
        "planeta1=int(input('ingresa la distancia del primer planeta')\n",
        "planeta2=int(input('ingresa la distancia del segundo planeta')\n",
        "distancia=(planeta1-planeta2)\n",
        "print(distancia)"
      ],
      "metadata": {
        "id": "qmqAFLG5FlvT",
        "outputId": "2de28300-b725-412c-bba8-9d7c7248381a",
        "colab": {
          "base_uri": "https://localhost:8080/",
          "height": 135
        }
      },
      "execution_count": 15,
      "outputs": [
        {
          "output_type": "error",
          "ename": "SyntaxError",
          "evalue": "ignored",
          "traceback": [
            "\u001b[0;36m  File \u001b[0;32m\"<ipython-input-15-fd1f38237c9e>\"\u001b[0;36m, line \u001b[0;32m2\u001b[0m\n\u001b[0;31m    planeta2=int(input('ingresa la distancia del segundo planeta')\u001b[0m\n\u001b[0m           ^\u001b[0m\n\u001b[0;31mSyntaxError\u001b[0m\u001b[0;31m:\u001b[0m invalid syntax\n"
          ]
        }
      ]
    },
    {
      "cell_type": "markdown",
      "source": [
        "# Soluciones propuestas"
      ],
      "metadata": {
        "id": "qcOp0oXTFrhJ"
      }
    },
    {
      "cell_type": "code",
      "source": [
        "numero1 = int(input('ingresa el numero de metros '))\n",
        "print('El total de centrimetros en ',numero1,\" metros es de \",numero1*100)"
      ],
      "metadata": {
        "id": "-rR1sZJUFvUp"
      },
      "execution_count": null,
      "outputs": []
    },
    {
      "cell_type": "code",
      "source": [
        "distancia1 = int(input('ingresa la distancia al sol del primer planeta'))\n",
        "distancia2 = int(input('ingresa la distancia al sol del segundo planeta'))\n",
        "distancia_entre_planetas = abs(distancia1-distancia2)\n",
        "print(distancia_entre_planetas)"
      ],
      "metadata": {
        "id": "Zz-AjsURGeMy"
      },
      "execution_count": null,
      "outputs": []
    }
  ]
}