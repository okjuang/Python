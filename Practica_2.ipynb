{
  "nbformat": 4,
  "nbformat_minor": 0,
  "metadata": {
    "colab": {
      "provenance": [],
      "authorship_tag": "ABX9TyM2QhHYh/Y6pCQ9XAIaGjIL",
      "include_colab_link": true
    },
    "kernelspec": {
      "name": "python3",
      "display_name": "Python 3"
    },
    "language_info": {
      "name": "python"
    }
  },
  "cells": [
    {
      "cell_type": "markdown",
      "metadata": {
        "id": "view-in-github",
        "colab_type": "text"
      },
      "source": [
        "<a href=\"https://colab.research.google.com/github/okjuang/Python/blob/main/Practica_2.ipynb\" target=\"_parent\"><img src=\"https://colab.research.google.com/assets/colab-badge.svg\" alt=\"Open In Colab\"/></a>"
      ]
    },
    {
      "cell_type": "markdown",
      "source": [
        "2 Práctica Números enteros y reales.\n",
        "Realiza los ejercicios de acuerdo a las indicaciones\n",
        "\n",
        "2.1 Ejercicio 1 (1.5 puntos)\n",
        "\n",
        "Escribir un programa que convierta un valor dado en grados Fahrenheit a grados Celsius."
      ],
      "metadata": {
        "id": "1t7AS7GgZkAu"
      }
    },
    {
      "cell_type": "code",
      "source": [
        "print('Convierte grados Fahrenheit a grados Celsius')\n",
        "temperatura=float(input('ingresa la temperatura Fahrenheit que deseas convertir a grados Celsius '))\n",
        "print('la conversión de °F a',(temperatura - 32)*(5/9),'°C')"
      ],
      "metadata": {
        "colab": {
          "base_uri": "https://localhost:8080/"
        },
        "id": "U7FF4dNEZlRu",
        "outputId": "13930a0a-287d-416c-b7fb-2259809f20c7"
      },
      "execution_count": 14,
      "outputs": [
        {
          "output_type": "stream",
          "name": "stdout",
          "text": [
            "Convierte grados Fahrenheit a grados Celsius\n",
            "ingresa la temperatura Fahrenheit que deseas convertir a grados Celsius486\n",
            "la conversión de °F a 252.22222222222223 °C\n"
          ]
        }
      ]
    }
  ]
}